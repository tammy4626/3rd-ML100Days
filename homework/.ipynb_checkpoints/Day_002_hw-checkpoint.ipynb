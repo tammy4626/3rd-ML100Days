{
 "cells": [
  {
   "cell_type": "code",
   "execution_count": null,
   "metadata": {},
   "outputs": [],
   "source": [
    "作業2：申論題目可直接將答案回覆在HW檔案裡面，Jupyter notebook可直接編輯文字。\n",
    "\n",
    "請上 Kaggle, 在 Competitions 或 Dataset 中找一組競賽或資料並寫下：\n",
    "\n",
    "1. 你選的這組資料為何重要\n",
    "https://www.kaggle.com/c/understanding_cloud_organization/data\n",
    "\n",
    "2. 資料從何而來 (tips: 譬如提供者是誰、以什麼方式蒐集)\n",
    "是衛星拍下的氣象圖，幫助人類了解大氣運作\n",
    "3. 蒐集而來的資料型態為何\n",
    "三通道影像\n",
    "4. 這組資料想解決的問題如何評估\n",
    "物件偵測，有效的標籤與分類，人們幫助衛星辨識不同的雲，然後進而在衛星運轉時評估天氣以及避開雲\n",
    "\n"
   ]
  }
 ],
 "metadata": {
  "kernelspec": {
   "display_name": "Python 3",
   "language": "python",
   "name": "python3"
  },
  "language_info": {
   "codemirror_mode": {
    "name": "ipython",
    "version": 3
   },
   "file_extension": ".py",
   "mimetype": "text/x-python",
   "name": "python",
   "nbconvert_exporter": "python",
   "pygments_lexer": "ipython3",
   "version": "3.6.5"
  }
 },
 "nbformat": 4,
 "nbformat_minor": 2
}
