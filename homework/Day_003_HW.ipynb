{
 "cells": [
  {
   "cell_type": "code",
   "execution_count": null,
   "metadata": {},
   "outputs": [],
   "source": [
    "作業3：\n",
    "\n",
    "想像你經營一個自由載客車隊，你希望能透過數據分析以提升業績，請你思考並描述你如何規劃整體的分析/解決方案：\n",
    "\n",
    "1. 核心問題為何 (tips：如何定義 「提升業績 & 你的假設」)\n",
    "增加消費者的總車資，，透過提高單一顧客車資或拉高搭乘人數\n",
    "透過紀錄路線/搭乘時間/搭乘地點，可有效理解哪個時間地點的人，搭乘消費的金額較高、或人流較多\n",
    "藉以調動司機投注於重點區域\n",
    "\n",
    "2. 資料從何而來 (tips：哪些資料可能會對你想問的問題產生影響 & 資料如何蒐集)\n",
    "計程車的導航系統，消費者的APP，\n",
    "3. 蒐集而來的資料型態為何\n",
    "時間、座標、金額，大多是數字\n",
    "4. 你要回答的問題，其如何評估 (tips：你的假設如何驗證)\n",
    "每一測試組派遣10人，每次控管單一變因的狀況下處理"
   ]
  }
 ],
 "metadata": {
  "kernelspec": {
   "display_name": "Python 3",
   "language": "python",
   "name": "python3"
  },
  "language_info": {
   "codemirror_mode": {
    "name": "ipython",
    "version": 3
   },
   "file_extension": ".py",
   "mimetype": "text/x-python",
   "name": "python",
   "nbconvert_exporter": "python",
   "pygments_lexer": "ipython3",
   "version": "3.6.5"
  }
 },
 "nbformat": 4,
 "nbformat_minor": 2
}
